{
 "cells": [
  {
   "cell_type": "markdown",
   "id": "9c1d709f",
   "metadata": {},
   "source": [
    "# Python – Worksheet 1"
   ]
  },
  {
   "cell_type": "markdown",
   "id": "a156be89",
   "metadata": {},
   "source": [
    "### 1. Which of the following operators is used to calculate remainder in a division?\n",
    "    A) #             B) &\n",
    "    C) %             D) $\n",
    "\n",
    "Answer - C) %"
   ]
  },
  {
   "cell_type": "markdown",
   "id": "0e6d6193",
   "metadata": {},
   "source": [
    "### 2. In python 2//3 is equal to?\n",
    "    A) 0.666         B) 0\n",
    "    C) 1             D) 0.67\n",
    "\n",
    "Answer - B) 0"
   ]
  },
  {
   "cell_type": "markdown",
   "id": "c90bf64b",
   "metadata": {},
   "source": [
    "### 3. In python, 6<<2 is equal to?\n",
    "    A) 36            B) 10\n",
    "    C) 24            D) 45\n",
    "\n",
    "Answer - C) 24"
   ]
  },
  {
   "cell_type": "markdown",
   "id": "1d2d022f",
   "metadata": {},
   "source": [
    "### 4. In python, 6&2 will give which of the following as output?\n",
    "    A) 2             B) True\n",
    "    C) False         D) 0\n",
    "\n",
    "Answer - A) 2"
   ]
  },
  {
   "cell_type": "markdown",
   "id": "8f048ab1",
   "metadata": {},
   "source": [
    "### 5. In python, 6|2 will give which of the following as output?\n",
    "    A) 2             B) 4\n",
    "    C) 0             D) 6\n",
    "\n",
    "Answer - D) 6"
   ]
  },
  {
   "cell_type": "markdown",
   "id": "100f9118",
   "metadata": {},
   "source": [
    "### 6. What does the finally keyword denotes in python?\n",
    "    A) It is used to mark the end of the code\n",
    "    B) It encloses the lines of code which will be executed if any error occurs while executing the lines of code in\n",
    "    the try block.\n",
    "    C) the finally block will be executed no matter if the try block raises an error or not.\n",
    "    D) None of the above\n",
    "\n",
    "Answer - C) the finally block will be executed no matter if the try block raises an error or not."
   ]
  },
  {
   "cell_type": "markdown",
   "id": "f091daa9",
   "metadata": {},
   "source": [
    "### 7. What does raise keyword is used for in python?\n",
    "    A) It is used to raise an exception.\n",
    "    B) It is used to define lambda function\n",
    "    C) it's not a keyword in python.\n",
    "    D) None of the above\n",
    "\n",
    "Answer - A) It is used to raise an exception."
   ]
  },
  {
   "cell_type": "markdown",
   "id": "424f9886",
   "metadata": {},
   "source": [
    "### 8. Which of the following is a common use case of yield keyword in python?\n",
    "    A) in defining an iterator         B) while defining a lambda function\n",
    "    C) in defining a generator         D) in for loop.\n",
    "\n",
    "Answer - C) in defining a generator"
   ]
  },
  {
   "cell_type": "markdown",
   "id": "513e2e8d",
   "metadata": {},
   "source": [
    "### Q9 and Q10 have multiple correct answers. Choose all the correct options to answer your question.\n",
    "\n",
    "### 9. Which of the following are the valid variable names?\n",
    "    A) _abc           B) 1abc\n",
    "    C) abc2           D) None of the above\n",
    "\n",
    "Answer - A) _abc     C) abc2"
   ]
  },
  {
   "cell_type": "markdown",
   "id": "0017cf2c",
   "metadata": {},
   "source": [
    "### 10. Which of the following are the keywords in python?\n",
    "    A) yield          B) raise\n",
    "    C) look-in        D) all of the above\n",
    "\n",
    "Answer - A) yield    B) raise"
   ]
  },
  {
   "cell_type": "markdown",
   "id": "8bbbee7d",
   "metadata": {},
   "source": [
    "### Q11 to Q15 are programming questions. Answer them in Jupyter Notebook.\n",
    "\n",
    "### 11. Write a python program to find the factorial of a number."
   ]
  },
  {
   "cell_type": "code",
   "execution_count": 5,
   "id": "641e54c0",
   "metadata": {
    "scrolled": true
   },
   "outputs": [
    {
     "name": "stdout",
     "output_type": "stream",
     "text": [
      "Enter a number: 4\n",
      "The factorial of 4 is 24\n"
     ]
    }
   ],
   "source": [
    "number = int(input(\"Enter a number: \"))\n",
    "\n",
    "factorial = 1\n",
    "\n",
    "if number < 0:\n",
    "    print(\"Sorry, factorial does not exist for negative numbers\")\n",
    "\n",
    "elif number == 0:\n",
    "    print(\"The factorial of 0 is 1\")\n",
    "    \n",
    "else:\n",
    "    for i in range(1,number + 1):\n",
    "        factorial = factorial*i\n",
    "\n",
    "print(\"The factorial of\",number,\"is\",factorial)"
   ]
  },
  {
   "cell_type": "markdown",
   "id": "ce1d8e0b",
   "metadata": {},
   "source": [
    "#### 12. Write a python program to find whether a number is prime or composite."
   ]
  },
  {
   "cell_type": "code",
   "execution_count": 29,
   "id": "1dd2c0ad",
   "metadata": {},
   "outputs": [
    {
     "name": "stdout",
     "output_type": "stream",
     "text": [
      "Enter any number : 44\n",
      "44 is NOT a prime number\n"
     ]
    }
   ],
   "source": [
    "num = int(input(\"Enter any number : \"))\n",
    "\n",
    "if num > 1:\n",
    "    for i in range(2, num):\n",
    "        if (num % i) == 0:\n",
    "            print(num, \"is NOT a prime number\")\n",
    "            break\n",
    "    else:\n",
    "        print(num, \"is a PRIME number\")\n",
    "elif num == 0 or 1:\n",
    "    print(num, \"is a neither prime NOR composite number\")\n",
    "else:\n",
    "    print(num, \"is NOT a prime number it is a COMPOSITE number\")"
   ]
  },
  {
   "cell_type": "markdown",
   "id": "ae68124c",
   "metadata": {},
   "source": [
    "#### 13. Write a python program to check whether a given string is palindrome or not."
   ]
  },
  {
   "cell_type": "code",
   "execution_count": 39,
   "id": "e85602de",
   "metadata": {},
   "outputs": [
    {
     "name": "stdout",
     "output_type": "stream",
     "text": [
      "Enter string:   sadas\n",
      "The string is a Palindrome.\n"
     ]
    }
   ],
   "source": [
    "def ispalindrome(string):\n",
    "    if (string == string[:: -1]):\n",
    "        return \"The string is a Palindrome.\"\n",
    "    else:\n",
    "        return \"The string is not a Palindrome.\"\n",
    "\n",
    "string = input(\"Enter string:   \")\n",
    "\n",
    "print(ispalindrome(string))"
   ]
  },
  {
   "cell_type": "markdown",
   "id": "f80eb14f",
   "metadata": {},
   "source": [
    "#### 14. Write a Python program to get the third side of right-angled triangle from two given sides."
   ]
  },
  {
   "cell_type": "code",
   "execution_count": 41,
   "id": "077fd280",
   "metadata": {},
   "outputs": [
    {
     "name": "stdout",
     "output_type": "stream",
     "text": [
      "Input lengths of shorter triangle sides:\n",
      "a: 4\n",
      "b: 3\n",
      "The length of the hypotenuse is: 5.0\n"
     ]
    }
   ],
   "source": [
    "from math import sqrt\n",
    "\n",
    "print(\"Input lengths of shorter triangle sides:\")\n",
    "\n",
    "a = float(input(\"a: \"))\n",
    "\n",
    "b = float(input(\"b: \"))\n",
    "\n",
    "c = sqrt(a**2 + b**2)\n",
    "\n",
    "print(\"The length of the hypotenuse is:\", c)"
   ]
  },
  {
   "cell_type": "markdown",
   "id": "49089190",
   "metadata": {},
   "source": [
    "#### 15. Write a python program to print the frequency of each of the characters present in a given string."
   ]
  },
  {
   "cell_type": "code",
   "execution_count": 44,
   "id": "0842c4ef",
   "metadata": {},
   "outputs": [
    {
     "name": "stdout",
     "output_type": "stream",
     "text": [
      "Enter a String:   coco\n",
      "c: 2, o: 2, c: 2, o: 2, "
     ]
    }
   ],
   "source": [
    "string = input(\"Enter a String:   \")\n",
    "\n",
    "for i in string:\n",
    "    frequency = string.count(i)\n",
    "    print(str(i) + \": \" + str(frequency), end=\", \")"
   ]
  }
 ],
 "metadata": {
  "kernelspec": {
   "display_name": "Python 3 (ipykernel)",
   "language": "python",
   "name": "python3"
  },
  "language_info": {
   "codemirror_mode": {
    "name": "ipython",
    "version": 3
   },
   "file_extension": ".py",
   "mimetype": "text/x-python",
   "name": "python",
   "nbconvert_exporter": "python",
   "pygments_lexer": "ipython3",
   "version": "3.10.9"
  }
 },
 "nbformat": 4,
 "nbformat_minor": 5
}
